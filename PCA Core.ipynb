{
 "cells": [
  {
   "cell_type": "markdown",
   "id": "1233ef29",
   "metadata": {},
   "source": [
    "## Import and Load"
   ]
  },
  {
   "cell_type": "code",
   "execution_count": null,
   "id": "4ff04ce1",
   "metadata": {},
   "outputs": [],
   "source": [
    "import pandas as pd\n",
    "import matplotlib.pyplot as plt\n",
    "import numpy as np\n",
    "\n",
    "from sklearn.decomposition import PCA\n",
    "from sklearn.cluster import KMeans\n",
    "from sklearn.preprocessing import StandardScaler, LabelEncoder\n",
    "from sklearn.metrics import silhouette_score"
   ]
  },
  {
   "cell_type": "code",
   "execution_count": null,
   "id": "1d84943c",
   "metadata": {},
   "outputs": [],
   "source": [
    "# load the dataset\n",
    "from sklearn.datasets import fetch_openml\n",
    "mnist = fetch_openml('mnist_784')\n",
    "# view the shape of the dataset\n",
    "mnist.data.shape"
   ]
  },
  {
   "cell_type": "markdown",
   "id": "d92f0a54",
   "metadata": {},
   "source": [
    "## Scale Data and PCA"
   ]
  },
  {
   "cell_type": "code",
   "execution_count": null,
   "id": "71974f0b",
   "metadata": {},
   "outputs": [],
   "source": [
    "# Save X data\n",
    "X = mnist.data\n",
    "\n",
    "# Encode our target\n",
    "le = LabelEncoder()\n",
    "y = le.fit_transform(mnist.target)"
   ]
  },
  {
   "cell_type": "code",
   "execution_count": null,
   "id": "83d8c4d2",
   "metadata": {},
   "outputs": [],
   "source": [
    "x_scaled = StandardScaler().fit_transform(X)"
   ]
  },
  {
   "cell_type": "code",
   "execution_count": null,
   "id": "2efc4de6",
   "metadata": {},
   "outputs": [],
   "source": [
    "# Apply PCA\n",
    "pca = PCA(n_components=.95)\n",
    "pcs = pca.fit_transform(x_scaled)"
   ]
  },
  {
   "cell_type": "markdown",
   "id": "f0557d83",
   "metadata": {},
   "source": [
    "## KMeans Model PCA"
   ]
  },
  {
   "cell_type": "code",
   "execution_count": null,
   "id": "fd64466f",
   "metadata": {},
   "outputs": [],
   "source": [
    "ks = range(2,11)\n",
    "\n",
    "inertias = []\n",
    "sils = []\n",
    "\n",
    "for k in ks:\n",
    "  model = KMeans(n_clusters=k)\n",
    "  model.fit(pcs)\n",
    "  inertias.append(model.inertia_)\n",
    "  sils.append(silhouette_score(pcs, model.labels_))\n",
    "\n",
    "plt.plot(ks, inertias)\n",
    "\n",
    "plt.show()\n",
    "\n",
    "plt.plot(ks, sils)"
   ]
  },
  {
   "cell_type": "code",
   "execution_count": null,
   "id": "355b4899",
   "metadata": {},
   "outputs": [],
   "source": []
  }
 ],
 "metadata": {
  "kernelspec": {
   "display_name": "Python (dojo-env)",
   "language": "python",
   "name": "dojo-env"
  },
  "language_info": {
   "codemirror_mode": {
    "name": "ipython",
    "version": 3
   },
   "file_extension": ".py",
   "mimetype": "text/x-python",
   "name": "python",
   "nbconvert_exporter": "python",
   "pygments_lexer": "ipython3",
   "version": "3.9.15"
  },
  "toc": {
   "base_numbering": 1,
   "nav_menu": {},
   "number_sections": false,
   "sideBar": true,
   "skip_h1_title": false,
   "title_cell": "Table of Contents",
   "title_sidebar": "Contents",
   "toc_cell": false,
   "toc_position": {},
   "toc_section_display": true,
   "toc_window_display": false
  }
 },
 "nbformat": 4,
 "nbformat_minor": 5
}
